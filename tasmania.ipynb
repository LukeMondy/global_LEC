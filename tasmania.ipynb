{
 "cells": [
  {
   "cell_type": "code",
   "execution_count": 1,
   "metadata": {},
   "outputs": [],
   "source": [
    "import meshio\n",
    "import numpy as np\n",
    "import time\n",
    "\n",
    "from LECMesh import LECMesh"
   ]
  },
  {
   "cell_type": "code",
   "execution_count": 10,
   "metadata": {},
   "outputs": [],
   "source": [
    "infile = \"australia/data/TAS.vtk\"\n",
    "outfile = \"outputs/costed_tas.vtk\"\n",
    "mesh = meshio.read(infile)\n",
    "\n",
    "# Setup the output data structure:\n",
    "mesh.point_data['cost'] = np.zeros_like(mesh.point_data['Z'])"
   ]
  },
  {
   "cell_type": "code",
   "execution_count": 3,
   "metadata": {},
   "outputs": [],
   "source": [
    "lm = LECMesh(mesh, max_fuel = 2500)"
   ]
  },
  {
   "cell_type": "code",
   "execution_count": 4,
   "metadata": {},
   "outputs": [
    {
     "name": "stdout",
     "output_type": "stream",
     "text": [
      "Total starting points available:  1093\n"
     ]
    }
   ],
   "source": [
    "points_above_sealevel = np.nonzero(mesh.point_data['Z'] >= 0)[0]\n",
    "print(\"Total starting points available: \", points_above_sealevel.shape[0], flush=True)"
   ]
  },
  {
   "cell_type": "code",
   "execution_count": 5,
   "metadata": {
    "scrolled": false
   },
   "outputs": [],
   "source": [
    "def process_points_with_feedback(points):\n",
    "    \"\"\"\n",
    "    This function is overly complicated, only because it's nice to see progress\n",
    "    \"\"\"\n",
    "    all_costs = []\n",
    "    start = 0\n",
    "    inc = 50\n",
    "    stop = inc\n",
    "    \n",
    "    while start < len(points):\n",
    "        start_time = time.time()\n",
    "        \n",
    "        # the real work is being done here\n",
    "        costs = list(map(lm.get_dist_from_point, points[start:stop]))\n",
    "        # you could replace this whole function with just:\n",
    "        #     return list(map(lm.get_dist_from_point, points))\n",
    "        # I think...\n",
    "        \n",
    "        print(\"points: {: 7d} to {: 7d} took {:.3f} s. % complete: {:.3f}\".format(\n",
    "                                                                                 start, \n",
    "                                                                                 stop, \n",
    "                                                                                 time.time() - start_time, \n",
    "                                                                                 (stop/(len(points)-1)) * 100), flush=True)\n",
    "\n",
    "        # Save the data\n",
    "        all_costs.extend(costs)\n",
    "        \n",
    "        # move to the next chunk of data\n",
    "        start += inc\n",
    "        stop += inc\n",
    "        if stop >= len(points):\n",
    "            stop = len(points)-1\n",
    "            \n",
    "    return all_costs"
   ]
  },
  {
   "cell_type": "code",
   "execution_count": 6,
   "metadata": {},
   "outputs": [
    {
     "name": "stdout",
     "output_type": "stream",
     "text": [
      "points:       0 to      50 took 22.288 s. % complete: 4.579\n",
      "points:      50 to     100 took 22.427 s. % complete: 9.158\n",
      "points:     100 to     150 took 23.171 s. % complete: 13.736\n",
      "points:     150 to     200 took 22.885 s. % complete: 18.315\n",
      "points:     200 to     250 took 23.047 s. % complete: 22.894\n",
      "points:     250 to     300 took 22.749 s. % complete: 27.473\n",
      "points:     300 to     350 took 22.516 s. % complete: 32.051\n",
      "points:     350 to     400 took 21.906 s. % complete: 36.630\n",
      "points:     400 to     450 took 23.194 s. % complete: 41.209\n",
      "points:     450 to     500 took 21.544 s. % complete: 45.788\n",
      "points:     500 to     550 took 19.023 s. % complete: 50.366\n",
      "points:     550 to     600 took 21.335 s. % complete: 54.945\n",
      "points:     600 to     650 took 22.808 s. % complete: 59.524\n",
      "points:     650 to     700 took 23.381 s. % complete: 64.103\n",
      "points:     700 to     750 took 20.741 s. % complete: 68.681\n",
      "points:     750 to     800 took 21.311 s. % complete: 73.260\n",
      "points:     800 to     850 took 23.911 s. % complete: 77.839\n",
      "points:     850 to     900 took 49.421 s. % complete: 82.418\n",
      "points:     900 to     950 took 41.403 s. % complete: 86.996\n",
      "points:     950 to    1000 took 42.221 s. % complete: 91.575\n",
      "points:    1000 to    1050 took 41.422 s. % complete: 96.154\n",
      "points:    1050 to    1092 took 34.184 s. % complete: 100.000\n"
     ]
    }
   ],
   "source": [
    "all_costs = process_points_with_feedback(points_above_sealevel)"
   ]
  },
  {
   "cell_type": "markdown",
   "metadata": {
    "scrolled": true
   },
   "source": [
    "## Output\n",
    "\n",
    "Show some of the results:"
   ]
  },
  {
   "cell_type": "code",
   "execution_count": 7,
   "metadata": {},
   "outputs": [
    {
     "name": "stdout",
     "output_type": "stream",
     "text": [
      "[(22, 55418082), (43, 9648), (47, 60083785), (54, 32523020), (58, 43708628), (111, 61688795), (116, 59654844), (125, 35304426), (126, 56257214), (127, 58083437), (128, 57878021), (129, 57612143), (130, 58057943), (131, 57092540), (132, 57413375), (133, 60022476), (134, 59843374), (135, 59847742), (136, 60613939), (137, 60043852), (138, 59326592), (139, 57150938), (140, 58528761), (141, 57608035), (142, 58182366), (143, 58456637), (144, 59317098), (145, 59203800), (146, 61267146), (147, 51705534), (148, 51745217), (149, 52223910), (150, 50969998), (151, 52949049), (152, 51734716), (153, 50563743), (154, 50265524), (155, 55285205), (156, 55737761), (157, 56558502), (158, 59063904), (159, 60923238), (160, 60341105), (161, 65257824), (162, 65527009), (163, 66723367), (164, 67990463), (165, 68435922), (166, 69822023), (167, 72237048), (168, 73946974), (169, 71835785), (170, 73406668), (171, 71749703), (172, 72113603), (173, 69503225), (174, 69114057), (175, 68392920), (176, 66410744), (177, 64236930), (178, 63529124), (179, 61900537), (180, 59962540), (181, 58380060), (182, 56603010), (183, 57456403), (184, 57083829), (185, 56824562), (186, 56494685), (187, 56073969), (188, 54881647), (189, 53185050), (190, 53493380), (191, 53104373), (192, 53233153), (193, 54118859), (194, 55425307), (195, 57474098), (196, 56002656), (197, 67066398), (199, 57049107), (200, 47160464), (201, 60264081), (202, 45562236), (203, 42169941), (204, 62825161), (205, 56485367), (206, 56592260), (207, 47475116), (208, 63483787), (209, 59498549), (210, 65991045), (211, 63171712), (212, 67553063), (213, 59853630), (214, 58856845), (215, 54966713), (216, 45312832), (217, 58308724), (218, 65607776)]\n"
     ]
    }
   ],
   "source": [
    "print(all_costs[:100])"
   ]
  },
  {
   "cell_type": "markdown",
   "metadata": {},
   "source": [
    "Write the data out to disk"
   ]
  },
  {
   "cell_type": "code",
   "execution_count": 11,
   "metadata": {},
   "outputs": [],
   "source": [
    "for i in all_costs:\n",
    "    mesh.point_data['cost'][i[0]] = i[1]\n",
    "meshio.write(outfile, mesh)"
   ]
  },
  {
   "cell_type": "code",
   "execution_count": null,
   "metadata": {},
   "outputs": [],
   "source": []
  }
 ],
 "metadata": {
  "kernelspec": {
   "display_name": "Python 3",
   "language": "python",
   "name": "python3"
  },
  "language_info": {
   "codemirror_mode": {
    "name": "ipython",
    "version": 3
   },
   "file_extension": ".py",
   "mimetype": "text/x-python",
   "name": "python",
   "nbconvert_exporter": "python",
   "pygments_lexer": "ipython3",
   "version": "3.5.3"
  }
 },
 "nbformat": 4,
 "nbformat_minor": 2
}
