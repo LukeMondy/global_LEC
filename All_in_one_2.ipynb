{
 "cells": [
  {
   "cell_type": "code",
   "execution_count": 3,
   "metadata": {},
   "outputs": [],
   "source": [
    "#!pip3 install line_profiler"
   ]
  },
  {
   "cell_type": "code",
   "execution_count": 1,
   "metadata": {},
   "outputs": [],
   "source": [
    "import meshio\n",
    "import numpy as np\n",
    "from multiprocessing import Pool\n",
    "import time\n",
    "import functools\n",
    "from queue import PriorityQueue\n",
    "\n",
    "#from ugs import *\n",
    "# Need to make sure it's installed: pip3 install line_profiler\n",
    "%load_ext line_profiler"
   ]
  },
  {
   "cell_type": "markdown",
   "metadata": {},
   "source": [
    "## Get paleo-topographies"
   ]
  },
  {
   "cell_type": "code",
   "execution_count": 2,
   "metadata": {},
   "outputs": [],
   "source": [
    "# Specify most recent time in Ma\n",
    "startMa = 0\n",
    "\n",
    "# Specify deepest time in Ma\n",
    "endMa = 100\n",
    "\n",
    "# Specify paleomap interval\n",
    "dtMa = 5\n",
    "\n",
    "timeframe = np.arange(startMa,endMa+dtMa,dtMa)"
   ]
  },
  {
   "cell_type": "code",
   "execution_count": 3,
   "metadata": {},
   "outputs": [
    {
     "name": "stdout",
     "output_type": "stream",
     "text": [
      "Writing VTK file earth/elev_vtk/elev0Ma.vtk\n",
      "Writing VTK file earth/elev_vtk/elev5Ma.vtk\n",
      "Writing VTK file earth/elev_vtk/elev10Ma.vtk\n",
      "Writing VTK file earth/elev_vtk/elev15Ma.vtk\n",
      "Writing VTK file earth/elev_vtk/elev20Ma.vtk\n",
      "Writing VTK file earth/elev_vtk/elev25Ma.vtk\n",
      "Writing VTK file earth/elev_vtk/elev30Ma.vtk\n",
      "Writing VTK file earth/elev_vtk/elev35Ma.vtk\n",
      "Writing VTK file earth/elev_vtk/elev40Ma.vtk\n",
      "Writing VTK file earth/elev_vtk/elev45Ma.vtk\n",
      "Writing VTK file earth/elev_vtk/elev50Ma.vtk\n",
      "Writing VTK file earth/elev_vtk/elev55Ma.vtk\n",
      "Writing VTK file earth/elev_vtk/elev60Ma.vtk\n",
      "Writing VTK file earth/elev_vtk/elev65Ma.vtk\n",
      "Writing VTK file earth/elev_vtk/elev70Ma.vtk\n",
      "Writing VTK file earth/elev_vtk/elev75Ma.vtk\n",
      "Writing VTK file earth/elev_vtk/elev80Ma.vtk\n",
      "Writing VTK file earth/elev_vtk/elev85Ma.vtk\n",
      "Writing VTK file earth/elev_vtk/elev90Ma.vtk\n",
      "Writing VTK file earth/elev_vtk/elev95Ma.vtk\n",
      "Writing VTK file earth/elev_vtk/elev100Ma.vtk\n"
     ]
    }
   ],
   "source": [
    "for k in range(len(timeframe)):\n",
    "    paleofile = 'earth/elev_npz/elev'+str(timeframe[k])+'Ma.npz'\n",
    "    paleomesh = 'earth/elev_vtk/elev'+str(timeframe[k])+'Ma.vtk'\n",
    "\n",
    "    topo = np.load(paleofile)\n",
    "    cells = topo['c']\n",
    "    vertices = topo['v']\n",
    "    elev = topo['z']\n",
    "\n",
    "    vtk_mesh = meshio.Mesh(vertices, {'triangle': cells}, point_data={\"Z\":elev})\n",
    "    meshio.write(paleomesh, vtk_mesh)\n",
    "\n",
    "    print(\"Writing VTK file {}\".format(paleomesh))"
   ]
  },
  {
   "cell_type": "code",
   "execution_count": null,
   "metadata": {},
   "outputs": [],
   "source": []
  },
  {
   "cell_type": "code",
   "execution_count": 48,
   "metadata": {},
   "outputs": [],
   "source": [
    "@functools.lru_cache(maxsize=32768)\n",
    "def distance(current, _next):\n",
    "    # from https://stackoverflow.com/a/1401828\n",
    "    if current == _next:\n",
    "        return 0\n",
    "    return int(np.linalg.norm(mesh.points[current]-mesh.points[_next]))\n",
    "\n",
    "@functools.lru_cache(maxsize=183746)\n",
    "def graph_neighbours(current):\n",
    "    # Get the points from the cells which have the same point in them\n",
    "    points = np.unique(mesh.cells_dict['triangle'][np.where(mesh.cells_dict['triangle']==current)[0]])\n",
    "    # remove the current point from these results:\n",
    "    points = points[points != current]\n",
    "    \n",
    "    # Get the elevation of those connected points\n",
    "    elevations = mesh.point_data['Z'][points]\n",
    "    # Return a list of connected points, as long as they are above sea-level\n",
    "    return points[elevations >= 0]\n",
    "    \n",
    "\n",
    "def cost_search(start, travel_cost_function, max_distance=100000, graph_neighbours=graph_neighbours):\n",
    "    frontier = PriorityQueue()  # The priority queue means that we can find the least cost path to continue\n",
    "    frontier.put(start, 0)      # from, along any path, meaning the resulting paths should always be the least-cost\n",
    "                                # path to get to that point.\n",
    "    came_from = {}\n",
    "    cost_so_far = {}\n",
    "    dist_so_far = {}\n",
    "    came_from[start] = None\n",
    "    cost_so_far[start] = 0\n",
    "    dist_so_far[start] = 0\n",
    "    \n",
    "    while not frontier.empty():\n",
    "        current = frontier.get()\n",
    "        for _next in graph_neighbours(current):\n",
    "            # Calculate the cost of going to this new point.\n",
    "            new_cost = cost_so_far[current] + travel_cost_function(current, _next)\n",
    "            # Calculate the eulerian distance to this new point.\n",
    "            new_dist = dist_so_far[current] + distance(current, _next)\n",
    "\n",
    "            # The max_distance check tells the algorithm to stop once we start getting too far away from the starting point.\n",
    "            if (_next not in cost_so_far or new_cost < cost_so_far[_next]) and new_dist < max_distance:\n",
    "                cost_so_far[_next] = new_cost\n",
    "                dist_so_far[_next] = new_dist\n",
    "                priority = new_cost\n",
    "                frontier.put(_next, priority)\n",
    "                came_from[_next] = current\n",
    "\n",
    "        \n",
    "    return came_from, cost_so_far\n",
    "\n",
    "def cost_search(start, travel_cost_function, max_fuel=1000, graph_neighbours=graph_neighbours):\n",
    "    frontier = PriorityQueue()  # The priority queue means that we can find the least cost path to continue\n",
    "    frontier.put(start, 0)      # from, along any path, meaning the resulting paths should always be the least-cost\n",
    "                                # path to get to that point.\n",
    "    came_from = {}\n",
    "    cost_so_far = {}\n",
    "    dist_so_far = {}\n",
    "    came_from[start] = None\n",
    "    cost_so_far[start] = 0\n",
    "    dist_so_far[start] = 0\n",
    "    \n",
    "    while not frontier.empty():\n",
    "        current = frontier.get()\n",
    "        for _next in graph_neighbours(current):\n",
    "            # Calculate the cost of going to this new point.\n",
    "            new_cost = cost_so_far[current] + travel_cost_function(current, _next)\n",
    "            # Calculate the eulerian distance to this new point.\n",
    "            new_dist = dist_so_far[current] + distance(current, _next)\n",
    "\n",
    "            # The max_distance check tells the algorithm to stop once we start getting too far away from the starting point.\n",
    "            if (_next not in cost_so_far or new_cost < cost_so_far[_next]) and new_cost <= max_fuel:\n",
    "                cost_so_far[_next] = new_cost\n",
    "                dist_so_far[_next] = new_dist\n",
    "                priority = new_cost\n",
    "                frontier.put(_next, priority)\n",
    "                came_from[_next] = current\n",
    "\n",
    "        \n",
    "    return came_from, cost_so_far, dist_so_far\n",
    "\n",
    "def get_total_cost_for_point(start, travel_cost_function, max_distance=100000, graph_neighbours=graph_neighbours):\n",
    "    came_from, cost_so_far, dist_so_far = cost_search(start, travel_cost_function, max_distance, graph_neighbours=graph_neighbours)\n",
    "    \n",
    "    # Find the edge nodes, and add up their costs to get the total\n",
    "    total_cost = 0\n",
    "    for k in came_from.keys():             # For all the points we've visited,\n",
    "        if k not in came_from.values():    # Find all the points that haven't been 'came_from'\n",
    "            total_cost += cost_so_far[k]\n",
    "            \n",
    "    return total_cost\n",
    "\n",
    "def get_total_distance_for_all_paths_to_point(start, travel_cost_function, max_fuel=1000, graph_neighbours=graph_neighbours):\n",
    "    came_from, cost_so_far, dist_so_far = cost_search(start, travel_cost_function, max_fuel, graph_neighbours=graph_neighbours)\n",
    "    \n",
    "    # Find the edge nodes, and add up their costs to get the total\n",
    "    total_dist = 0\n",
    "    for k in came_from.keys():             # For all the points we've visited,\n",
    "        if k not in came_from.values():    # Find all the points that haven't been 'came_from'\n",
    "            total_dist += dist_so_far[k]\n",
    "            \n",
    "    return total_dist\n",
    "\n",
    "def get_from_cell(cell, travel_cost_function, max_distance=100000):\n",
    "    start = cell[1]\n",
    "    return get_from_point(start, travel_cost_function, max_distance)\n",
    "\n",
    "def get_dist_from_point(point, travel_cost_function, max_fuel=1000, graph_neighbours=graph_neighbours):\n",
    "    # Return a tuple of (the point id, it's cost)\n",
    "    total_dist = get_total_distance_for_all_paths_to_point(point, travel_cost_function, max_fuel, graph_neighbours=graph_neighbours)\n",
    "    #print(os.getpid(), distance.cache_info())\n",
    "    return (point, total_dist)\n",
    "\n",
    "def get_from_point(point, travel_cost_function, max_distance=100000, graph_neighbours=graph_neighbours):\n",
    "    # Return a tuple of (the point id, it's cost)\n",
    "    total_cost = get_total_cost_for_point(point, travel_cost_function, max_distance, graph_neighbours)\n",
    "    #print(os.getpid(), distance.cache_info())\n",
    "    return (point, total_cost)"
   ]
  },
  {
   "cell_type": "code",
   "execution_count": 49,
   "metadata": {},
   "outputs": [],
   "source": [
    "# We need to define a way to calculate cost\n",
    "@functools.lru_cache(maxsize=1048576)\n",
    "def distance_with_elevation_scaled(current, _next):\n",
    "    # The travel_cost can be any function, including just the distance.\n",
    "    # Here, we exagerate the elevation difference, to make changing elevation more costly\n",
    "    if current == _next:\n",
    "        return 0\n",
    "    \n",
    "    z_scaling = 100.  # 100. is a random number to pick, but has quite a big impact on the resulting paths.\n",
    "    \n",
    "    new_current = np.append(mesh.points[current][:2], mesh.point_data['Z'][current] * z_scaling)\n",
    "    new_next    = np.append(mesh.points[_next][:2],   mesh.point_data['Z'][_next]   * z_scaling)\n",
    "    \n",
    "    return int(np.linalg.norm(new_current - new_next))  # return as Int, just for niceness"
   ]
  },
  {
   "cell_type": "code",
   "execution_count": 50,
   "metadata": {},
   "outputs": [],
   "source": [
    "# We need to define a way to calculate cost\n",
    "@functools.lru_cache(maxsize=1048576)\n",
    "def elevation_only(current, _next):\n",
    "    # Only take into account elevation changes for costs\n",
    "    if current == _next:\n",
    "        return 0\n",
    "    return int(abs(mesh.point_data['Z'][current] - mesh.point_data['Z'][_next]) + distance(current, _next)*0.004)"
   ]
  },
  {
   "cell_type": "code",
   "execution_count": null,
   "metadata": {},
   "outputs": [],
   "source": []
  },
  {
   "cell_type": "code",
   "execution_count": 51,
   "metadata": {},
   "outputs": [],
   "source": [
    "k = -1\n",
    "paleomesh = 'earth/elev_vtk/elev'+str(timeframe[k])+'Ma.vtk'\n",
    "paleobio = 'earth/bio_vtk/elev'+str(timeframe[k])+'Ma.vtk'\n",
    "\n",
    "mesh = meshio.read(paleomesh)\n",
    "\n",
    "max_fuel = 2500\n",
    "# A smaller value means visiting far fewer nodes, so it speeds things up a lot"
   ]
  },
  {
   "cell_type": "code",
   "execution_count": 52,
   "metadata": {},
   "outputs": [],
   "source": [
    "# Choose which cost function you want\n",
    "travel_cost = elevation_only"
   ]
  },
  {
   "cell_type": "markdown",
   "metadata": {},
   "source": [
    "## Prepare input data\n",
    "\n",
    "We don't want to calculate the LEC of a point below sea-level, so here we find all the points above sea-level, so they can be used as starting points."
   ]
  },
  {
   "cell_type": "code",
   "execution_count": 53,
   "metadata": {},
   "outputs": [],
   "source": [
    "points_above_sealevel = np.nonzero(mesh.point_data['Z'] >= 0)[0][::-1]"
   ]
  },
  {
   "cell_type": "code",
   "execution_count": 54,
   "metadata": {},
   "outputs": [
    {
     "name": "stdout",
     "output_type": "stream",
     "text": [
      "Total starting points available:  179477\n"
     ]
    }
   ],
   "source": [
    "print(\"Total starting points available: \", points_above_sealevel.shape[0])"
   ]
  },
  {
   "cell_type": "code",
   "execution_count": null,
   "metadata": {},
   "outputs": [],
   "source": []
  },
  {
   "cell_type": "markdown",
   "metadata": {},
   "source": [
    "## Prepare for parallel execution\n",
    "\n",
    "We want to use a parallel map function to calculate the cost for all points. We can make this easier by 'baking in' the parameters of a function we know, and leave only the `starting point` as a variable."
   ]
  },
  {
   "cell_type": "code",
   "execution_count": 55,
   "metadata": {},
   "outputs": [],
   "source": [
    "from functools import partial\n",
    "\n",
    "# We bake in the mesh and travel_cost function into the get_from_point function\n",
    "get_from_point_in_mesh = partial(get_dist_from_point, travel_cost_function = travel_cost, max_fuel = max_fuel)"
   ]
  },
  {
   "cell_type": "code",
   "execution_count": 56,
   "metadata": {},
   "outputs": [],
   "source": [
    "#%lprun -f get_from_point_in_mesh get_from_point_in_mesh(points_above_sealevel[100])"
   ]
  },
  {
   "cell_type": "code",
   "execution_count": 57,
   "metadata": {},
   "outputs": [
    {
     "name": "stdout",
     "output_type": "stream",
     "text": [
      "759\n",
      "(655193, 8836398)\n",
      "CacheInfo(hits=65, misses=103, maxsize=183746, currsize=103)\n"
     ]
    }
   ],
   "source": [
    "# Now we can use the get_from_point function with only a point ID as a parameter, by going via the new get_from_point_in_mesh function\n",
    "# Here we do a test, and see the output format: (point, total cost of all paths to that point)\n",
    "print(travel_cost(points_above_sealevel[100], points_above_sealevel[101]))\n",
    "print(get_from_point_in_mesh(points_above_sealevel[100]))\n",
    "print(graph_neighbours.cache_info())"
   ]
  },
  {
   "cell_type": "code",
   "execution_count": null,
   "metadata": {},
   "outputs": [],
   "source": []
  },
  {
   "cell_type": "code",
   "execution_count": 58,
   "metadata": {
    "scrolled": true
   },
   "outputs": [
    {
     "name": "stdout",
     "output_type": "stream",
     "text": [
      "From  0  to  1000  took  259.7386245727539 seconds, starting with point 655361 . Percent complete:  0.5571744568941981\n",
      "From  1000  to  2000  took  146.82976126670837 seconds, starting with point 648565 . Percent complete:  1.1143489137883962\n",
      "From  2000  to  3000  took  233.93369841575623 seconds, starting with point 640790 . Percent complete:  1.6715233706825945\n",
      "From  3000  to  4000  took  227.4308364391327 seconds, starting with point 636079 . Percent complete:  2.2286978275767924\n",
      "From  4000  to  5000  took  126.67887139320374 seconds, starting with point 632562 . Percent complete:  2.7858722844709907\n",
      "From  5000  to  6000  took  140.7515630722046 seconds, starting with point 631379 . Percent complete:  3.343046741365189\n",
      "From  6000  to  7000  took  237.72814226150513 seconds, starting with point 629869 . Percent complete:  3.900221198259387\n",
      "From  7000  to  8000  took  183.53801822662354 seconds, starting with point 626342 . Percent complete:  4.457395655153585\n",
      "From  8000  to  9000  took  179.0341923236847 seconds, starting with point 624480 . Percent complete:  5.014570112047783\n",
      "From  9000  to  10000  took  147.96152234077454 seconds, starting with point 621918 . Percent complete:  5.571744568941981\n",
      "From  10000  to  11000  took  142.54018831253052 seconds, starting with point 617088 . Percent complete:  6.12891902583618\n",
      "From  11000  to  12000  took  204.2140634059906 seconds, starting with point 613186 . Percent complete:  6.686093482730378\n",
      "From  12000  to  13000  took  143.34055757522583 seconds, starting with point 610189 . Percent complete:  7.243267939624576\n",
      "From  13000  to  14000  took  95.46807718276978 seconds, starting with point 608358 . Percent complete:  7.800442396518774\n",
      "From  14000  to  15000  took  129.937668800354 seconds, starting with point 606411 . Percent complete:  8.357616853412972\n",
      "From  15000  to  16000  took  78.81524515151978 seconds, starting with point 601607 . Percent complete:  8.91479131030717\n",
      "From  16000  to  17000  took  84.18067741394043 seconds, starting with point 597836 . Percent complete:  9.471965767201368\n",
      "From  17000  to  18000  took  82.40672254562378 seconds, starting with point 594273 . Percent complete:  10.029140224095565\n",
      "From  18000  to  19000  took  85.92348289489746 seconds, starting with point 590407 . Percent complete:  10.586314680989764\n",
      "From  19000  to  20000  took  85.70344686508179 seconds, starting with point 587664 . Percent complete:  11.143489137883963\n",
      "From  20000  to  21000  took  80.43810772895813 seconds, starting with point 585681 . Percent complete:  11.700663594778161\n",
      "From  21000  to  22000  took  57.730860471725464 seconds, starting with point 581282 . Percent complete:  12.25783805167236\n",
      "From  22000  to  23000  took  74.14475631713867 seconds, starting with point 576204 . Percent complete:  12.815012508566555\n",
      "From  23000  to  24000  took  52.75283241271973 seconds, starting with point 569726 . Percent complete:  13.372186965460756\n",
      "From  24000  to  25000  took  63.977612257003784 seconds, starting with point 565103 . Percent complete:  13.929361422354953\n",
      "From  25000  to  26000  took  66.3089587688446 seconds, starting with point 562311 . Percent complete:  14.486535879249152\n",
      "From  26000  to  27000  took  52.90827012062073 seconds, starting with point 558253 . Percent complete:  15.04371033614335\n",
      "From  27000  to  28000  took  57.56548881530762 seconds, starting with point 556043 . Percent complete:  15.600884793037547\n",
      "From  28000  to  29000  took  74.14027070999146 seconds, starting with point 554237 . Percent complete:  16.158059249931746\n",
      "From  29000  to  30000  took  47.96577477455139 seconds, starting with point 550929 . Percent complete:  16.715233706825945\n",
      "From  30000  to  31000  took  53.68248248100281 seconds, starting with point 546528 . Percent complete:  17.272408163720144\n",
      "From  31000  to  32000  took  42.82172727584839 seconds, starting with point 544194 . Percent complete:  17.82958262061434\n",
      "From  32000  to  33000  took  40.206204414367676 seconds, starting with point 539667 . Percent complete:  18.386757077508538\n",
      "From  33000  to  34000  took  38.89912247657776 seconds, starting with point 535660 . Percent complete:  18.943931534402736\n",
      "From  34000  to  35000  took  38.18648386001587 seconds, starting with point 532043 . Percent complete:  19.501105991296935\n",
      "From  35000  to  36000  took  40.72525453567505 seconds, starting with point 527678 . Percent complete:  20.05828044819113\n",
      "From  36000  to  37000  took  35.822081327438354 seconds, starting with point 524051 . Percent complete:  20.615454905085333\n",
      "From  37000  to  38000  took  35.61712169647217 seconds, starting with point 515814 . Percent complete:  21.172629361979528\n",
      "From  38000  to  39000  took  35.83827519416809 seconds, starting with point 509034 . Percent complete:  21.729803818873727\n",
      "From  39000  to  40000  took  30.755358457565308 seconds, starting with point 506427 . Percent complete:  22.286978275767925\n",
      "From  40000  to  41000  took  30.48469614982605 seconds, starting with point 503307 . Percent complete:  22.844152732662124\n",
      "From  41000  to  42000  took  34.038901805877686 seconds, starting with point 498272 . Percent complete:  23.401327189556323\n",
      "From  42000  to  43000  took  27.826406478881836 seconds, starting with point 496236 . Percent complete:  23.958501646450518\n",
      "From  43000  to  44000  took  34.406521797180176 seconds, starting with point 494086 . Percent complete:  24.51567610334472\n",
      "From  44000  to  45000  took  33.70111870765686 seconds, starting with point 490613 . Percent complete:  25.07285056023892\n",
      "From  45000  to  46000  took  24.121575117111206 seconds, starting with point 488899 . Percent complete:  25.63002501713311\n",
      "From  46000  to  47000  took  32.02804136276245 seconds, starting with point 483527 . Percent complete:  26.187199474027313\n",
      "From  47000  to  48000  took  16.28179144859314 seconds, starting with point 481426 . Percent complete:  26.744373930921512\n",
      "From  48000  to  49000  took  18.333449125289917 seconds, starting with point 477951 . Percent complete:  27.30154838781571\n",
      "From  49000  to  50000  took  33.08601522445679 seconds, starting with point 474717 . Percent complete:  27.858722844709906\n",
      "From  50000  to  51000  took  21.75126576423645 seconds, starting with point 471454 . Percent complete:  28.415897301604105\n",
      "From  51000  to  52000  took  22.90356707572937 seconds, starting with point 465114 . Percent complete:  28.973071758498303\n",
      "From  52000  to  53000  took  22.863051652908325 seconds, starting with point 462071 . Percent complete:  29.530246215392502\n",
      "From  53000  to  54000  took  20.233659029006958 seconds, starting with point 460108 . Percent complete:  30.0874206722867\n",
      "From  54000  to  55000  took  17.13977861404419 seconds, starting with point 458552 . Percent complete:  30.644595129180896\n",
      "From  55000  to  56000  took  22.616772651672363 seconds, starting with point 454592 . Percent complete:  31.201769586075095\n",
      "From  56000  to  57000  took  20.608689785003662 seconds, starting with point 450813 . Percent complete:  31.758944042969294\n",
      "From  57000  to  58000  took  18.625505208969116 seconds, starting with point 448316 . Percent complete:  32.31611849986349\n",
      "From  58000  to  59000  took  16.864734172821045 seconds, starting with point 440599 . Percent complete:  32.87329295675769\n",
      "From  59000  to  60000  took  15.759442329406738 seconds, starting with point 432257 . Percent complete:  33.43046741365189\n",
      "From  60000  to  61000  took  14.293018341064453 seconds, starting with point 430192 . Percent complete:  33.987641870546085\n",
      "From  61000  to  62000  took  16.896105766296387 seconds, starting with point 425744 . Percent complete:  34.54481632744029\n",
      "From  62000  to  63000  took  13.954296588897705 seconds, starting with point 424014 . Percent complete:  35.10199078433448\n",
      "From  63000  to  64000  took  15.98361849784851 seconds, starting with point 422287 . Percent complete:  35.65916524122868\n",
      "From  64000  to  65000  took  20.275207042694092 seconds, starting with point 420320 . Percent complete:  36.21633969812288\n",
      "From  65000  to  66000  took  19.179802179336548 seconds, starting with point 417379 . Percent complete:  36.773514155017075\n",
      "From  66000  to  67000  took  17.643736839294434 seconds, starting with point 414978 . Percent complete:  37.33068861191128\n"
     ]
    },
    {
     "name": "stdout",
     "output_type": "stream",
     "text": [
      "From  67000  to  68000  took  21.66580033302307 seconds, starting with point 410165 . Percent complete:  37.88786306880547\n",
      "From  68000  to  69000  took  14.271286487579346 seconds, starting with point 406932 . Percent complete:  38.44503752569967\n",
      "From  69000  to  70000  took  15.931782245635986 seconds, starting with point 405101 . Percent complete:  39.00221198259387\n",
      "From  70000  to  71000  took  16.556103944778442 seconds, starting with point 400648 . Percent complete:  39.55938643948807\n",
      "From  71000  to  72000  took  14.18777585029602 seconds, starting with point 396737 . Percent complete:  40.11656089638226\n",
      "From  72000  to  73000  took  19.014466524124146 seconds, starting with point 391665 . Percent complete:  40.67373535327646\n",
      "From  73000  to  74000  took  17.581751823425293 seconds, starting with point 389265 . Percent complete:  41.230909810170665\n",
      "From  74000  to  75000  took  12.302581548690796 seconds, starting with point 386149 . Percent complete:  41.78808426706486\n",
      "From  75000  to  76000  took  12.774336099624634 seconds, starting with point 382511 . Percent complete:  42.345258723959056\n",
      "From  76000  to  77000  took  12.369977712631226 seconds, starting with point 376303 . Percent complete:  42.90243318085326\n",
      "From  77000  to  78000  took  15.73851490020752 seconds, starting with point 372062 . Percent complete:  43.45960763774745\n",
      "From  78000  to  79000  took  16.27518129348755 seconds, starting with point 368940 . Percent complete:  44.016782094641655\n",
      "From  79000  to  80000  took  14.282907009124756 seconds, starting with point 366186 . Percent complete:  44.57395655153585\n",
      "From  80000  to  81000  took  16.483614206314087 seconds, starting with point 363243 . Percent complete:  45.131131008430046\n",
      "From  81000  to  82000  took  14.5261971950531 seconds, starting with point 359604 . Percent complete:  45.68830546532425\n",
      "From  82000  to  83000  took  13.828167915344238 seconds, starting with point 355288 . Percent complete:  46.24547992221844\n",
      "From  83000  to  84000  took  14.379889488220215 seconds, starting with point 352481 . Percent complete:  46.802654379112646\n",
      "From  84000  to  85000  took  14.536457061767578 seconds, starting with point 347173 . Percent complete:  47.35982883600684\n",
      "From  85000  to  86000  took  13.483006954193115 seconds, starting with point 339983 . Percent complete:  47.917003292901036\n",
      "From  86000  to  87000  took  11.037708759307861 seconds, starting with point 336065 . Percent complete:  48.47417774979524\n",
      "From  87000  to  88000  took  14.531383275985718 seconds, starting with point 333839 . Percent complete:  49.03135220668944\n",
      "From  88000  to  89000  took  16.70077133178711 seconds, starting with point 332247 . Percent complete:  49.58852666358363\n",
      "From  89000  to  90000  took  15.223934412002563 seconds, starting with point 329154 . Percent complete:  50.14570112047784\n",
      "From  90000  to  91000  took  13.477614402770996 seconds, starting with point 324808 . Percent complete:  50.70287557737203\n",
      "From  91000  to  92000  took  16.458014488220215 seconds, starting with point 321196 . Percent complete:  51.26005003426622\n",
      "From  92000  to  93000  took  15.115196228027344 seconds, starting with point 319846 . Percent complete:  51.81722449116043\n",
      "From  93000  to  94000  took  14.260717391967773 seconds, starting with point 315465 . Percent complete:  52.374398948054626\n",
      "From  94000  to  95000  took  12.248613119125366 seconds, starting with point 311897 . Percent complete:  52.93157340494883\n",
      "From  95000  to  96000  took  14.162978172302246 seconds, starting with point 306736 . Percent complete:  53.488747861843024\n",
      "From  96000  to  97000  took  14.976706743240356 seconds, starting with point 304235 . Percent complete:  54.04592231873722\n",
      "From  97000  to  98000  took  13.500139713287354 seconds, starting with point 301321 . Percent complete:  54.60309677563142\n",
      "From  98000  to  99000  took  11.19412350654602 seconds, starting with point 297393 . Percent complete:  55.160271232525616\n",
      "From  99000  to  100000  took  13.329497337341309 seconds, starting with point 292747 . Percent complete:  55.71744568941981\n",
      "From  100000  to  101000  took  12.342294454574585 seconds, starting with point 289735 . Percent complete:  56.274620146314014\n",
      "From  101000  to  102000  took  13.326845169067383 seconds, starting with point 286335 . Percent complete:  56.83179460320821\n",
      "From  102000  to  103000  took  12.952082633972168 seconds, starting with point 281912 . Percent complete:  57.38896906010241\n",
      "From  103000  to  104000  took  11.894084692001343 seconds, starting with point 276853 . Percent complete:  57.94614351699661\n",
      "From  104000  to  105000  took  12.902032136917114 seconds, starting with point 275036 . Percent complete:  58.5033179738908\n",
      "From  105000  to  106000  took  12.519829511642456 seconds, starting with point 271466 . Percent complete:  59.060492430785004\n",
      "From  106000  to  107000  took  11.756759643554688 seconds, starting with point 268781 . Percent complete:  59.6176668876792\n",
      "From  107000  to  108000  took  13.309103727340698 seconds, starting with point 264483 . Percent complete:  60.1748413445734\n",
      "From  108000  to  109000  took  12.560089111328125 seconds, starting with point 260167 . Percent complete:  60.7320158014676\n",
      "From  109000  to  110000  took  12.954909324645996 seconds, starting with point 257193 . Percent complete:  61.28919025836179\n",
      "From  110000  to  111000  took  14.575040340423584 seconds, starting with point 253703 . Percent complete:  61.846364715255994\n",
      "From  111000  to  112000  took  12.615133047103882 seconds, starting with point 247119 . Percent complete:  62.40353917215019\n",
      "From  112000  to  113000  took  13.752843618392944 seconds, starting with point 243814 . Percent complete:  62.960713629044385\n",
      "From  113000  to  114000  took  13.925076723098755 seconds, starting with point 241517 . Percent complete:  63.51788808593859\n",
      "From  114000  to  115000  took  14.235184669494629 seconds, starting with point 239019 . Percent complete:  64.07506254283278\n",
      "From  115000  to  116000  took  13.975756168365479 seconds, starting with point 235419 . Percent complete:  64.63223699972698\n",
      "From  116000  to  117000  took  14.381346225738525 seconds, starting with point 232106 . Percent complete:  65.18941145662119\n",
      "From  117000  to  118000  took  11.650644540786743 seconds, starting with point 229006 . Percent complete:  65.74658591351537\n",
      "From  118000  to  119000  took  11.204219818115234 seconds, starting with point 223933 . Percent complete:  66.30376037040958\n",
      "From  119000  to  120000  took  14.328718185424805 seconds, starting with point 221101 . Percent complete:  66.86093482730378\n",
      "From  120000  to  121000  took  12.63778042793274 seconds, starting with point 217521 . Percent complete:  67.41810928419798\n",
      "From  121000  to  122000  took  13.682932138442993 seconds, starting with point 212501 . Percent complete:  67.97528374109217\n",
      "From  122000  to  123000  took  12.673120260238647 seconds, starting with point 209385 . Percent complete:  68.53245819798637\n",
      "From  123000  to  124000  took  14.062515258789062 seconds, starting with point 205745 . Percent complete:  69.08963265488057\n",
      "From  124000  to  125000  took  12.335355758666992 seconds, starting with point 201569 . Percent complete:  69.64680711177476\n",
      "From  125000  to  126000  took  12.686960935592651 seconds, starting with point 198761 . Percent complete:  70.20398156866896\n",
      "From  126000  to  127000  took  13.940392017364502 seconds, starting with point 195347 . Percent complete:  70.76115602556317\n",
      "From  127000  to  128000  took  12.154968500137329 seconds, starting with point 191467 . Percent complete:  71.31833048245736\n",
      "From  128000  to  129000  took  15.055717468261719 seconds, starting with point 186193 . Percent complete:  71.87550493935156\n",
      "From  129000  to  130000  took  14.629836082458496 seconds, starting with point 184078 . Percent complete:  72.43267939624576\n",
      "From  130000  to  131000  took  12.661468982696533 seconds, starting with point 180375 . Percent complete:  72.98985385313995\n",
      "From  131000  to  132000  took  13.887238264083862 seconds, starting with point 176701 . Percent complete:  73.54702831003415\n",
      "From  132000  to  133000  took  13.48215627670288 seconds, starting with point 172966 . Percent complete:  74.10420276692835\n"
     ]
    },
    {
     "name": "stdout",
     "output_type": "stream",
     "text": [
      "From  133000  to  134000  took  14.10029673576355 seconds, starting with point 169070 . Percent complete:  74.66137722382256\n",
      "From  134000  to  135000  took  15.183168411254883 seconds, starting with point 166055 . Percent complete:  75.21855168071674\n",
      "From  135000  to  136000  took  12.220017671585083 seconds, starting with point 160742 . Percent complete:  75.77572613761095\n",
      "From  136000  to  137000  took  14.206059694290161 seconds, starting with point 154745 . Percent complete:  76.33290059450515\n",
      "From  137000  to  138000  took  13.564538717269897 seconds, starting with point 152500 . Percent complete:  76.89007505139934\n",
      "From  138000  to  139000  took  13.440089464187622 seconds, starting with point 150059 . Percent complete:  77.44724950829354\n",
      "From  139000  to  140000  took  13.068712711334229 seconds, starting with point 147891 . Percent complete:  78.00442396518774\n",
      "From  140000  to  141000  took  15.641607522964478 seconds, starting with point 142857 . Percent complete:  78.56159842208193\n",
      "From  141000  to  142000  took  13.262014627456665 seconds, starting with point 141375 . Percent complete:  79.11877287897615\n",
      "From  142000  to  143000  took  11.576144695281982 seconds, starting with point 137411 . Percent complete:  79.67594733587033\n",
      "From  143000  to  144000  took  12.757786989212036 seconds, starting with point 133705 . Percent complete:  80.23312179276452\n",
      "From  144000  to  145000  took  10.417738437652588 seconds, starting with point 130492 . Percent complete:  80.79029624965874\n",
      "From  145000  to  146000  took  10.036355257034302 seconds, starting with point 124673 . Percent complete:  81.34747070655293\n",
      "From  146000  to  147000  took  15.697831392288208 seconds, starting with point 121912 . Percent complete:  81.90464516344713\n",
      "From  147000  to  148000  took  15.930179834365845 seconds, starting with point 118864 . Percent complete:  82.46181962034133\n",
      "From  148000  to  149000  took  13.15249228477478 seconds, starting with point 115462 . Percent complete:  83.01899407723552\n",
      "From  149000  to  150000  took  10.98462724685669 seconds, starting with point 111501 . Percent complete:  83.57616853412972\n",
      "From  150000  to  151000  took  10.400716781616211 seconds, starting with point 105570 . Percent complete:  84.13334299102392\n",
      "From  151000  to  152000  took  13.134796142578125 seconds, starting with point 102136 . Percent complete:  84.69051744791811\n",
      "From  152000  to  153000  took  12.633329629898071 seconds, starting with point 99226 . Percent complete:  85.24769190481231\n",
      "From  153000  to  154000  took  11.226661920547485 seconds, starting with point 96098 . Percent complete:  85.80486636170652\n",
      "From  154000  to  155000  took  13.868794918060303 seconds, starting with point 92017 . Percent complete:  86.36204081860072\n",
      "From  155000  to  156000  took  12.409293413162231 seconds, starting with point 89546 . Percent complete:  86.9192152754949\n",
      "From  156000  to  157000  took  10.434983730316162 seconds, starting with point 83938 . Percent complete:  87.47638973238911\n",
      "From  157000  to  158000  took  12.742620944976807 seconds, starting with point 81415 . Percent complete:  88.03356418928331\n",
      "From  158000  to  159000  took  12.583437442779541 seconds, starting with point 78215 . Percent complete:  88.5907386461775\n",
      "From  159000  to  160000  took  10.855402708053589 seconds, starting with point 74828 . Percent complete:  89.1479131030717\n",
      "From  160000  to  161000  took  11.602328538894653 seconds, starting with point 71303 . Percent complete:  89.7050875599659\n",
      "From  161000  to  162000  took  12.034267902374268 seconds, starting with point 67207 . Percent complete:  90.26226201686009\n",
      "From  162000  to  163000  took  11.895249605178833 seconds, starting with point 63793 . Percent complete:  90.8194364737543\n",
      "From  163000  to  164000  took  14.012104034423828 seconds, starting with point 59299 . Percent complete:  91.3766109306485\n",
      "From  164000  to  165000  took  12.263134717941284 seconds, starting with point 56308 . Percent complete:  91.93378538754268\n",
      "From  165000  to  166000  took  12.938442468643188 seconds, starting with point 52614 . Percent complete:  92.49095984443689\n",
      "From  166000  to  167000  took  13.3246591091156 seconds, starting with point 49136 . Percent complete:  93.04813430133109\n",
      "From  167000  to  168000  took  13.503491640090942 seconds, starting with point 45497 . Percent complete:  93.60530875822529\n",
      "From  168000  to  169000  took  13.537449359893799 seconds, starting with point 41833 . Percent complete:  94.16248321511948\n",
      "From  169000  to  170000  took  12.823779582977295 seconds, starting with point 36708 . Percent complete:  94.71965767201368\n",
      "From  170000  to  171000  took  14.09931492805481 seconds, starting with point 34517 . Percent complete:  95.27683212890788\n",
      "From  171000  to  172000  took  12.232673645019531 seconds, starting with point 31359 . Percent complete:  95.83400658580207\n",
      "From  172000  to  173000  took  13.372981786727905 seconds, starting with point 27372 . Percent complete:  96.39118104269629\n",
      "From  173000  to  174000  took  12.352260828018188 seconds, starting with point 23813 . Percent complete:  96.94835549959048\n",
      "From  174000  to  175000  took  13.399685859680176 seconds, starting with point 19497 . Percent complete:  97.50552995648466\n",
      "From  175000  to  176000  took  13.67157530784607 seconds, starting with point 16335 . Percent complete:  98.06270441337888\n",
      "From  176000  to  177000  took  14.105397939682007 seconds, starting with point 12645 . Percent complete:  98.61987887027307\n",
      "From  177000  to  178000  took  14.293385028839111 seconds, starting with point 8415 . Percent complete:  99.17705332716726\n",
      "From  178000  to  179000  took  15.633932828903198 seconds, starting with point 5341 . Percent complete:  99.73422778406147\n",
      "From  179000  to  179476  took  7.715922832489014 seconds, starting with point 1653 . Percent complete:  99.9994428255431\n"
     ]
    }
   ],
   "source": [
    "# Output data variables\n",
    "all_costs = []\n",
    "mesh.point_data['cost'] = np.zeros_like(mesh.point_data['Z'])\n",
    "\n",
    "p = Pool(6)\n",
    "start = 0\n",
    "inc = 1000\n",
    "stop = inc\n",
    "\n",
    "while start < points_above_sealevel.shape[0]:\n",
    "    start_time = time.time()\n",
    "    # Here we use a parallel map function to send out the chunk across the CPUs in the Pool\n",
    "    costs = p.map(get_from_point_in_mesh, points_above_sealevel[start:stop])\n",
    "    print(\"From \", start, \" to \", stop, \" took \", time.time() - start_time, \"seconds, starting with point\", points_above_sealevel[start], \". Percent complete: \", 100*(float(stop)/points_above_sealevel.shape[0]))\n",
    "    # Save the data\n",
    "    all_costs.extend(costs)\n",
    "    \n",
    "    # Write out data progressively, so we can see progress in Paraview\n",
    "    for i in all_costs:\n",
    "        mesh.point_data['cost'][i[0]] = i[1]\n",
    "    meshio.write(paleobio, mesh)\n",
    "    \n",
    "    # move to the next chunk of data\n",
    "    start += inc\n",
    "    stop += inc\n",
    "    if stop >= points_above_sealevel.shape[0]:\n",
    "        stop = points_above_sealevel.shape[0]-1"
   ]
  },
  {
   "cell_type": "markdown",
   "metadata": {
    "scrolled": true
   },
   "source": [
    "## Output\n",
    "\n",
    "Show some of the results:"
   ]
  },
  {
   "cell_type": "code",
   "execution_count": 43,
   "metadata": {},
   "outputs": [],
   "source": [
    "# print(all_costs[:100])"
   ]
  },
  {
   "cell_type": "code",
   "execution_count": null,
   "metadata": {},
   "outputs": [],
   "source": []
  }
 ],
 "metadata": {
  "kernelspec": {
   "display_name": "Python 3",
   "language": "python",
   "name": "python3"
  },
  "language_info": {
   "codemirror_mode": {
    "name": "ipython",
    "version": 3
   },
   "file_extension": ".py",
   "mimetype": "text/x-python",
   "name": "python",
   "nbconvert_exporter": "python",
   "pygments_lexer": "ipython3",
   "version": "3.7.3"
  }
 },
 "nbformat": 4,
 "nbformat_minor": 2
}
