{
 "cells": [
  {
   "cell_type": "code",
   "execution_count": null,
   "metadata": {},
   "outputs": [],
   "source": [
    "import os\n",
    "import meshio\n",
    "import numpy as np\n",
    "from scipy.spatial import cKDTree\n",
    "from scipy.ndimage import gaussian_filter\n",
    "\n",
    "\n",
    "np.seterr(divide='ignore', invalid='ignore')"
   ]
  },
  {
   "cell_type": "markdown",
   "metadata": {},
   "source": [
    "## Get vtk mesh data"
   ]
  },
  {
   "cell_type": "code",
   "execution_count": null,
   "metadata": {},
   "outputs": [],
   "source": [
    "paleofile = 'earth/bio_vtk/elev100Ma.vtk'\n",
    "mesh = meshio.read(paleofile)\n",
    "\n",
    "vertices = mesh.points\n",
    "cells = mesh.cells_dict['triangle']\n",
    "elev = mesh.point_data['Z']\n",
    "cost = mesh.point_data['cost']"
   ]
  },
  {
   "cell_type": "code",
   "execution_count": null,
   "metadata": {},
   "outputs": [],
   "source": [
    "# paleofile = 'earth/elev_npz/elev0Ma.npz'\n",
    "# topo = np.load(paleofile)\n",
    "# cells = topo['c']\n",
    "# vertices = topo['v']\n",
    "# elev = topo['z']\n",
    "# cost = topo['cost']\n",
    "\n",
    "lonlatfile = 'earth/elev_npz/icoord_elev.npz'\n",
    "mesh_lonlat = np.load(lonlatfile)\n",
    "rcoord = mesh_lonlat['v']\n",
    "lons = np.radians(rcoord[0])\n",
    "lats = np.radians(rcoord[1])"
   ]
  },
  {
   "cell_type": "markdown",
   "metadata": {},
   "source": [
    "## Build lon/lat structured grid\n",
    "\n",
    "Define the resolution in degree for regular grid resolution"
   ]
  },
  {
   "cell_type": "code",
   "execution_count": null,
   "metadata": {},
   "outputs": [],
   "source": [
    "res = 0.1 "
   ]
  },
  {
   "cell_type": "code",
   "execution_count": null,
   "metadata": {},
   "outputs": [],
   "source": [
    "def buildReg(res):\n",
    "    \n",
    "    # Regular lon/lat coordinates\n",
    "    lon = np.arange(0.0, 360.0, res)\n",
    "    lat = np.arange(0.0, 180.0, res)\n",
    "\n",
    "    # Build the mesh\n",
    "    mlon, mlat = np.meshgrid(lon, lat, sparse=False, indexing=\"ij\")\n",
    "    nbPts = mlon.size\n",
    "\n",
    "    # Define regular mesh information\n",
    "    points = np.zeros((nbPts, 2))\n",
    "    points[:, 0] = np.radians(mlon.flatten())\n",
    "    points[:, 1] = np.radians(mlat.flatten())\n",
    "    \n",
    "    return points, mlon.shape\n",
    "\n",
    "regPts, rShape = buildReg(res)"
   ]
  },
  {
   "cell_type": "markdown",
   "metadata": {},
   "source": [
    "## Perform interpolation to regular grid"
   ]
  },
  {
   "cell_type": "markdown",
   "metadata": {},
   "source": [
    "Build unstructured mesh kd-tree for smoothing"
   ]
  },
  {
   "cell_type": "code",
   "execution_count": null,
   "metadata": {},
   "outputs": [],
   "source": [
    "utree = cKDTree(list(zip(lons, lats)))\n",
    "uDist, uIds = utree.query(regPts, k=3)"
   ]
  },
  {
   "cell_type": "markdown",
   "metadata": {},
   "source": [
    "Map data from the unstructured grid on the structured one by performing inverse weighting distance..."
   ]
  },
  {
   "cell_type": "code",
   "execution_count": null,
   "metadata": {},
   "outputs": [],
   "source": [
    "uWght = 1.0 / uDist ** 2\n",
    "uIs = np.where(uDist[:, 0] == 0)[0]\n",
    "\n",
    "regData = np.sum(uWght * cost[uIds][:, :], axis=1) / np.sum(uWght, axis=1)\n",
    "if len(uIs) > 0:\n",
    "    regData[uIs] = cost[uIds[uIs, 0]]"
   ]
  },
  {
   "cell_type": "markdown",
   "metadata": {},
   "source": [
    "## Apply smoothing on unstructured grid"
   ]
  },
  {
   "cell_type": "code",
   "execution_count": null,
   "metadata": {},
   "outputs": [],
   "source": [
    "smth = 4"
   ]
  },
  {
   "cell_type": "code",
   "execution_count": null,
   "metadata": {},
   "outputs": [],
   "source": [
    "regData = gaussian_filter(regData.reshape(rShape), sigma=smth).flatten()"
   ]
  },
  {
   "cell_type": "markdown",
   "metadata": {},
   "source": [
    "## Perform interpolation to unstructured grid"
   ]
  },
  {
   "cell_type": "code",
   "execution_count": null,
   "metadata": {},
   "outputs": [],
   "source": [
    "rtree = cKDTree(regPts)\n",
    "rDist, rIds = rtree.query(list(zip(lons, lats)), k=3)"
   ]
  },
  {
   "cell_type": "code",
   "execution_count": null,
   "metadata": {},
   "outputs": [],
   "source": [
    "rWght = 1.0 / rDist ** 2\n",
    "rIs = np.where(rDist[:, 0] == 0)[0]\n",
    "\n",
    "sCost = np.sum(rWght * regData[rIds][:, :], axis=1) / np.sum(rWght, axis=1)\n",
    "if len(rIs) > 0:\n",
    "    sCost[rIs] = regData[rIds[rIs, 0]]"
   ]
  },
  {
   "cell_type": "code",
   "execution_count": null,
   "metadata": {},
   "outputs": [],
   "source": [
    "sCost[elev<0] = 0."
   ]
  },
  {
   "cell_type": "code",
   "execution_count": null,
   "metadata": {},
   "outputs": [],
   "source": [
    "paleomesh = 'earth/bio_vtk/smooth_elev100Ma.vtk'\n",
    "vtk_mesh = meshio.Mesh(vertices, {'triangle': cells}, \n",
    "                       point_data={\"Z\":elev, \"cost\":cost, \"scost\":sCost, \"ncost\":sCost/(sCost.max())})\n",
    "meshio.write(paleomesh, vtk_mesh)\n",
    "\n",
    "print(\"Writing VTK file {}\".format(paleomesh))"
   ]
  },
  {
   "cell_type": "code",
   "execution_count": null,
   "metadata": {},
   "outputs": [],
   "source": [
    "sCost.max()"
   ]
  },
  {
   "cell_type": "code",
   "execution_count": null,
   "metadata": {},
   "outputs": [],
   "source": []
  }
 ],
 "metadata": {
  "kernelspec": {
   "display_name": "Python 3",
   "language": "python",
   "name": "python3"
  },
  "language_info": {
   "codemirror_mode": {
    "name": "ipython",
    "version": 3
   },
   "file_extension": ".py",
   "mimetype": "text/x-python",
   "name": "python",
   "nbconvert_exporter": "python",
   "pygments_lexer": "ipython3",
   "version": "3.7.3"
  }
 },
 "nbformat": 4,
 "nbformat_minor": 4
}
